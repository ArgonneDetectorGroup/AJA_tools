{
 "cells": [
  {
   "cell_type": "markdown",
   "metadata": {},
   "source": [
    "Example 1: Matching up logfiles with recipe lists\n",
    "=========\n",
    "Extracting a time-ordered list of processes that occurred during deposition from an AJA logfile. In order to run this, you'll have to have the required directories of AJA logfiles, recipe files, and job files."
   ]
  },
  {
   "cell_type": "code",
   "execution_count": 3,
   "metadata": {
    "collapsed": false
   },
   "outputs": [],
   "source": [
    "#Add the AJA repository parent directory to $PATH\n",
    "import sys\n",
    "sys.path.append('/Users/fcarter/Documents/Code/Python/')\n",
    "\n",
    "import glob\n",
    "import pprint\n",
    "\n",
    "from AJA_tools import recipe_parser as rp"
   ]
  },
  {
   "cell_type": "markdown",
   "metadata": {},
   "source": [
    "Specify file locations\n",
    "---------------------\n",
    "The easiest thing is to put all the recipe files (`.rcp`) in one folder and all the job files (`.ajp`) in another. I did this by opening a terminal and typing::\n",
    "\n",
    "    mkdir recipes\n",
    "    mv *.rcp recipes\n",
    "    mkdir jobs\n",
    "    mv *.ajp jobs"
   ]
  },
  {
   "cell_type": "code",
   "execution_count": 6,
   "metadata": {
    "collapsed": false
   },
   "outputs": [],
   "source": [
    "recipe_files_dir = './AJA_Metals/recipes/'\n",
    "job_files_dir = './AJA_Metals/jobs/'"
   ]
  },
  {
   "cell_type": "markdown",
   "metadata": {},
   "source": [
    "Parse files and generate database of jobs\n",
    "---------------------------------------\n",
    "This function takes in a folder of `.ajp` files and builds a dictionary of jobs that matches job names to job file locations."
   ]
  },
  {
   "cell_type": "code",
   "execution_count": 7,
   "metadata": {
    "collapsed": false
   },
   "outputs": [
    {
     "name": "stdout",
     "output_type": "stream",
     "text": [
      "The first five jobs are:\n",
      "['1 9',\n",
      " 'AlMn950_100nm_Ti10nm_Au20nm_test ',\n",
      " 'bias test w4',\n",
      " 'CP 300nm Nb_250W_30W_RF_8mtorr',\n",
      " 'CP 4X 30 min Nb deposition to improve vacuum_wait_2_4&_6hrs']\n"
     ]
    }
   ],
   "source": [
    "#Build up the dictionary of jobs\n",
    "jobs_dict = rp.build_jobs_dict(job_files_dir)\n",
    "\n",
    "#Print the first couple of job names\n",
    "print(\"The first five jobs are:\")\n",
    "pprint.pprint(list(jobs_dict.keys())[0:5])"
   ]
  },
  {
   "cell_type": "markdown",
   "metadata": {},
   "source": [
    "Get the path to the right job file\n",
    "--------------------------------\n",
    "`get_job` takes in a logfile path and a dictionary of jobs (or path to a jobs folder) and returns both the job name and the job file."
   ]
  },
  {
   "cell_type": "code",
   "execution_count": 8,
   "metadata": {
    "collapsed": false
   },
   "outputs": [
    {
     "name": "stdout",
     "output_type": "stream",
     "text": [
      "Job name is: CP LU1_3_4_5 TES Ti+Au_200nm+20nm 5minRFclean_Wait5min\n",
      "Job file is: ./AJA_Metals/jobs/CP LU1_3_4_5 TES Ti+Au_200nm+20nm 5minRFclean_Wait5min.ajp\n",
      "'\\x00\\x00\\x00<\\x00\\x00\\x00\\x06Load 1\\x00\\x00\\x00\\twait 5min\\x00\\x00\\x00!CP Rot Gas ON  30W Bias Plasma On\\x00\\x00\\x00\\x10CP RF Clean 5min\\x00\\x00\\x00\\x11CP Gases OFF 1min\\x00\\x00\\x00\\twait 5min\\x00\\x00\\x00 SL Rot Gas ON & Strike Ti Plasma\\x00\\x00\\x00\\x14CP Ti Presputt 3 min\\x00\\x00\\x00-CP Ti sputter 200nm + Au presputter last 1min\\x00\\x00\\x00\\x15SL Ti OFF + Au strike\\x00\\x00\\x00\\x1bSL Au sputter 20nm 3_2mTorr\\x00\\x00\\x00\\tSL Au OFF\\x00\\x00\\x00\\x10SL Rot Gases OFF\\x00\\x00\\x00\\twait 5min\\x00\\x00\\x00\\x08Unload 1\\x00\\x00\\x00\\x05load3\\x00\\x00\\x00\\twait 5min\\x00\\x00\\x00!CP Rot Gas ON  30W Bias Plasma On\\x00\\x00\\x00\\x10CP RF Clean 5min\\x00\\x00\\x00\\x11CP Gases OFF 1min\\x00\\x00\\x00\\twait 5min\\x00\\x00\\x00 SL Rot Gas ON & Strike Ti Plasma\\x00\\x00\\x00\\x14CP Ti Presputt 3 min\\x00\\x00\\x00-CP Ti sputter 200nm + Au presputter last 1min\\x00\\x00\\x00\\x15SL Ti OFF + Au strike\\x00\\x00\\x00\\x1bSL Au sputter 20nm 3_2mTorr\\x00\\x00\\x00\\tSL Au OFF\\x00\\x00\\x00\\x10SL Rot Gases OFF\\x00\\x00\\x00\\twait 5min\\x00\\x00\\x00\\x07unload3\\x00\\x00\\x00\\x06Load 4\\x00\\x00\\x00\\twait 5min\\x00\\x00\\x00!CP Rot Gas ON  30W Bias Plasma On\\x00\\x00\\x00\\x10CP RF Clean 5min\\x00\\x00\\x00\\x11CP Gases OFF 1min\\x00\\x00\\x00\\twait 5min\\x00\\x00\\x00 SL Rot Gas ON & Strike Ti Plasma\\x00\\x00\\x00\\x14CP Ti Presputt 3 min\\x00\\x00\\x00-CP Ti sputter 200nm + Au presputter last 1min\\x00\\x00\\x00\\x15SL Ti OFF + Au strike\\x00\\x00\\x00\\x1bSL Au sputter 20nm 3_2mTorr\\x00\\x00\\x00\\tSL Au OFF\\x00\\x00\\x00\\x10SL Rot Gases OFF\\x00\\x00\\x00\\twait 5min\\x00\\x00\\x00\\x08unload 4\\x00\\x00\\x00\\x06load 5\\x00\\x00\\x00\\twait 5min\\x00\\x00\\x00!CP Rot Gas ON  30W Bias Plasma On\\x00\\x00\\x00\\x10CP RF Clean 5min\\x00\\x00\\x00\\x11CP Gases OFF 1min\\x00\\x00\\x00\\twait 5min\\x00\\x00\\x00 SL Rot Gas ON & Strike Ti Plasma\\x00\\x00\\x00\\x14CP Ti Presputt 3 min\\x00\\x00\\x00-CP Ti sputter 200nm + Au presputter last 1min\\x00\\x00\\x00\\x15SL Ti OFF + Au strike\\x00\\x00\\x00\\x1bSL Au sputter 20nm 3_2mTorr\\x00\\x00\\x00\\tSL Au OFF\\x00\\x00\\x00\\x10SL Rot Gases OFF\\x00\\x00\\x00\\twait 5min\\x00\\x00\\x00\\x08unload 5'\n"
     ]
    }
   ],
   "source": [
    "#Specify the logfile of interest\n",
    "log_file_path = './AJA_Metals/datalog/CP LU1_3_4_5 TES Ti+Au_200nm+20nm 5minRFclean_Wait5min_1252016_ 102948 AM.dlg'\n",
    "\n",
    "job_name, job_file_path = rp.get_job(log_file_path, jobs_dict)\n",
    "print(\"Job name is: \"+job_name)\n",
    "print(\"Job file is: \"+job_file_path)\n",
    "with open(job_file_path, 'r') as f:\n",
    "    print(repr(f.read()))"
   ]
  },
  {
   "cell_type": "markdown",
   "metadata": {},
   "source": [
    "Extract the recipe from the job file\n",
    "----------------------------------\n",
    "Since the job files all have a specific format, passing in the recipe files directory path is optional. However, if that path is passed in, the function will check if each recipe step exists as a recipe file in the directory."
   ]
  },
  {
   "cell_type": "code",
   "execution_count": 9,
   "metadata": {
    "collapsed": false,
    "scrolled": false
   },
   "outputs": [
    {
     "name": "stdout",
     "output_type": "stream",
     "text": [
      "{'info': 'raw_recipe format is: (string index, string, recipe exists?)',\n",
      " 'job_name': 'CP LU1_3_4_5 TES Ti+Au_200nm+20nm 5minRFclean_Wait5min',\n",
      " 'raw_job': '\\x00\\x00\\x00<\\x00\\x00\\x00\\x06Load 1\\x00\\x00\\x00\\twait '\n",
      "            '5min\\x00\\x00\\x00!CP Rot Gas ON  30W Bias Plasma '\n",
      "            'On\\x00\\x00\\x00\\x10CP RF Clean 5min\\x00\\x00\\x00\\x11CP Gases OFF '\n",
      "            '1min\\x00\\x00\\x00\\twait 5min\\x00\\x00\\x00 SL Rot Gas ON & Strike Ti '\n",
      "            'Plasma\\x00\\x00\\x00\\x14CP Ti Presputt 3 min\\x00\\x00\\x00-CP Ti '\n",
      "            'sputter 200nm + Au presputter last 1min\\x00\\x00\\x00\\x15SL Ti OFF '\n",
      "            '+ Au strike\\x00\\x00\\x00\\x1bSL Au sputter 20nm '\n",
      "            '3_2mTorr\\x00\\x00\\x00\\tSL Au OFF\\x00\\x00\\x00\\x10SL Rot Gases '\n",
      "            'OFF\\x00\\x00\\x00\\twait 5min\\x00\\x00\\x00\\x08Unload '\n",
      "            '1\\x00\\x00\\x00\\x05load3\\x00\\x00\\x00\\twait 5min\\x00\\x00\\x00!CP Rot '\n",
      "            'Gas ON  30W Bias Plasma On\\x00\\x00\\x00\\x10CP RF Clean '\n",
      "            '5min\\x00\\x00\\x00\\x11CP Gases OFF 1min\\x00\\x00\\x00\\twait '\n",
      "            '5min\\x00\\x00\\x00 SL Rot Gas ON & Strike Ti '\n",
      "            'Plasma\\x00\\x00\\x00\\x14CP Ti Presputt 3 min\\x00\\x00\\x00-CP Ti '\n",
      "            'sputter 200nm + Au presputter last 1min\\x00\\x00\\x00\\x15SL Ti OFF '\n",
      "            '+ Au strike\\x00\\x00\\x00\\x1bSL Au sputter 20nm '\n",
      "            '3_2mTorr\\x00\\x00\\x00\\tSL Au OFF\\x00\\x00\\x00\\x10SL Rot Gases '\n",
      "            'OFF\\x00\\x00\\x00\\twait '\n",
      "            '5min\\x00\\x00\\x00\\x07unload3\\x00\\x00\\x00\\x06Load 4\\x00\\x00\\x00\\t'\n",
      "            'wait 5min\\x00\\x00\\x00!CP Rot Gas ON  30W Bias Plasma '\n",
      "            'On\\x00\\x00\\x00\\x10CP RF Clean 5min\\x00\\x00\\x00\\x11CP Gases OFF '\n",
      "            '1min\\x00\\x00\\x00\\twait 5min\\x00\\x00\\x00 SL Rot Gas ON & Strike Ti '\n",
      "            'Plasma\\x00\\x00\\x00\\x14CP Ti Presputt 3 min\\x00\\x00\\x00-CP Ti '\n",
      "            'sputter 200nm + Au presputter last 1min\\x00\\x00\\x00\\x15SL Ti OFF '\n",
      "            '+ Au strike\\x00\\x00\\x00\\x1bSL Au sputter 20nm '\n",
      "            '3_2mTorr\\x00\\x00\\x00\\tSL Au OFF\\x00\\x00\\x00\\x10SL Rot Gases '\n",
      "            'OFF\\x00\\x00\\x00\\twait 5min\\x00\\x00\\x00\\x08unload '\n",
      "            '4\\x00\\x00\\x00\\x06load 5\\x00\\x00\\x00\\twait 5min\\x00\\x00\\x00!CP Rot '\n",
      "            'Gas ON  30W Bias Plasma On\\x00\\x00\\x00\\x10CP RF Clean '\n",
      "            '5min\\x00\\x00\\x00\\x11CP Gases OFF 1min\\x00\\x00\\x00\\twait '\n",
      "            '5min\\x00\\x00\\x00 SL Rot Gas ON & Strike Ti '\n",
      "            'Plasma\\x00\\x00\\x00\\x14CP Ti Presputt 3 min\\x00\\x00\\x00-CP Ti '\n",
      "            'sputter 200nm + Au presputter last 1min\\x00\\x00\\x00\\x15SL Ti OFF '\n",
      "            '+ Au strike\\x00\\x00\\x00\\x1bSL Au sputter 20nm '\n",
      "            '3_2mTorr\\x00\\x00\\x00\\tSL Au OFF\\x00\\x00\\x00\\x10SL Rot Gases '\n",
      "            'OFF\\x00\\x00\\x00\\twait 5min\\x00\\x00\\x00\\x08unload 5',\n",
      " 'raw_recipe': [(0, '\\x00\\x00\\x00<\\x00\\x00\\x00\\x06', None),\n",
      "                (8, 'Load 1', True),\n",
      "                (14, '\\x00\\x00\\x00\\t', None),\n",
      "                (18, 'wait 5min', True),\n",
      "                (27, '\\x00\\x00\\x00!', None),\n",
      "                (31, 'CP Rot Gas ON  30W Bias Plasma On', True),\n",
      "                (64, '\\x00\\x00\\x00\\x10', None),\n",
      "                (68, 'CP RF Clean 5min', True),\n",
      "                (84, '\\x00\\x00\\x00\\x11', None),\n",
      "                (88, 'CP Gases OFF 1min', True),\n",
      "                (105, '\\x00\\x00\\x00\\t', None),\n",
      "                (109, 'wait 5min', True),\n",
      "                (118, '\\x00\\x00\\x00 ', None),\n",
      "                (122, 'SL Rot Gas ON & Strike Ti Plasma', True),\n",
      "                (154, '\\x00\\x00\\x00\\x14', None),\n",
      "                (158, 'CP Ti Presputt 3 min', True),\n",
      "                (178, '\\x00\\x00\\x00-', None),\n",
      "                (182, 'CP Ti sputter 200nm + Au presputter last 1min', True),\n",
      "                (227, '\\x00\\x00\\x00\\x15', None),\n",
      "                (231, 'SL Ti OFF + Au strike', True),\n",
      "                (252, '\\x00\\x00\\x00\\x1b', None),\n",
      "                (256, 'SL Au sputter 20nm 3_2mTorr', True),\n",
      "                (283, '\\x00\\x00\\x00\\t', None),\n",
      "                (287, 'SL Au OFF', True),\n",
      "                (296, '\\x00\\x00\\x00\\x10', None),\n",
      "                (300, 'SL Rot Gases OFF', True),\n",
      "                (316, '\\x00\\x00\\x00\\t', None),\n",
      "                (320, 'wait 5min', True),\n",
      "                (329, '\\x00\\x00\\x00\\x08', None),\n",
      "                (333, 'Unload 1', True),\n",
      "                (341, '\\x00\\x00\\x00\\x05', None),\n",
      "                (345, 'load3', True),\n",
      "                (350, '\\x00\\x00\\x00\\t', None),\n",
      "                (354, 'wait 5min', True),\n",
      "                (363, '\\x00\\x00\\x00!', None),\n",
      "                (367, 'CP Rot Gas ON  30W Bias Plasma On', True),\n",
      "                (400, '\\x00\\x00\\x00\\x10', None),\n",
      "                (404, 'CP RF Clean 5min', True),\n",
      "                (420, '\\x00\\x00\\x00\\x11', None),\n",
      "                (424, 'CP Gases OFF 1min', True),\n",
      "                (441, '\\x00\\x00\\x00\\t', None),\n",
      "                (445, 'wait 5min', True),\n",
      "                (454, '\\x00\\x00\\x00 ', None),\n",
      "                (458, 'SL Rot Gas ON & Strike Ti Plasma', True),\n",
      "                (490, '\\x00\\x00\\x00\\x14', None),\n",
      "                (494, 'CP Ti Presputt 3 min', True),\n",
      "                (514, '\\x00\\x00\\x00-', None),\n",
      "                (518, 'CP Ti sputter 200nm + Au presputter last 1min', True),\n",
      "                (563, '\\x00\\x00\\x00\\x15', None),\n",
      "                (567, 'SL Ti OFF + Au strike', True),\n",
      "                (588, '\\x00\\x00\\x00\\x1b', None),\n",
      "                (592, 'SL Au sputter 20nm 3_2mTorr', True),\n",
      "                (619, '\\x00\\x00\\x00\\t', None),\n",
      "                (623, 'SL Au OFF', True),\n",
      "                (632, '\\x00\\x00\\x00\\x10', None),\n",
      "                (636, 'SL Rot Gases OFF', True),\n",
      "                (652, '\\x00\\x00\\x00\\t', None),\n",
      "                (656, 'wait 5min', True),\n",
      "                (665, '\\x00\\x00\\x00\\x07', None),\n",
      "                (669, 'unload3', True),\n",
      "                (676, '\\x00\\x00\\x00\\x06', None),\n",
      "                (680, 'Load 4', True),\n",
      "                (686, '\\x00\\x00\\x00\\t', None),\n",
      "                (690, 'wait 5min', True),\n",
      "                (699, '\\x00\\x00\\x00!', None),\n",
      "                (703, 'CP Rot Gas ON  30W Bias Plasma On', True),\n",
      "                (736, '\\x00\\x00\\x00\\x10', None),\n",
      "                (740, 'CP RF Clean 5min', True),\n",
      "                (756, '\\x00\\x00\\x00\\x11', None),\n",
      "                (760, 'CP Gases OFF 1min', True),\n",
      "                (777, '\\x00\\x00\\x00\\t', None),\n",
      "                (781, 'wait 5min', True),\n",
      "                (790, '\\x00\\x00\\x00 ', None),\n",
      "                (794, 'SL Rot Gas ON & Strike Ti Plasma', True),\n",
      "                (826, '\\x00\\x00\\x00\\x14', None),\n",
      "                (830, 'CP Ti Presputt 3 min', True),\n",
      "                (850, '\\x00\\x00\\x00-', None),\n",
      "                (854, 'CP Ti sputter 200nm + Au presputter last 1min', True),\n",
      "                (899, '\\x00\\x00\\x00\\x15', None),\n",
      "                (903, 'SL Ti OFF + Au strike', True),\n",
      "                (924, '\\x00\\x00\\x00\\x1b', None),\n",
      "                (928, 'SL Au sputter 20nm 3_2mTorr', True),\n",
      "                (955, '\\x00\\x00\\x00\\t', None),\n",
      "                (959, 'SL Au OFF', True),\n",
      "                (968, '\\x00\\x00\\x00\\x10', None),\n",
      "                (972, 'SL Rot Gases OFF', True),\n",
      "                (988, '\\x00\\x00\\x00\\t', None),\n",
      "                (992, 'wait 5min', True),\n",
      "                (1001, '\\x00\\x00\\x00\\x08', None),\n",
      "                (1005, 'unload 4', True),\n",
      "                (1013, '\\x00\\x00\\x00\\x06', None),\n",
      "                (1017, 'load 5', True),\n",
      "                (1023, '\\x00\\x00\\x00\\t', None),\n",
      "                (1027, 'wait 5min', True),\n",
      "                (1036, '\\x00\\x00\\x00!', None),\n",
      "                (1040, 'CP Rot Gas ON  30W Bias Plasma On', True),\n",
      "                (1073, '\\x00\\x00\\x00\\x10', None),\n",
      "                (1077, 'CP RF Clean 5min', True),\n",
      "                (1093, '\\x00\\x00\\x00\\x11', None),\n",
      "                (1097, 'CP Gases OFF 1min', True),\n",
      "                (1114, '\\x00\\x00\\x00\\t', None),\n",
      "                (1118, 'wait 5min', True),\n",
      "                (1127, '\\x00\\x00\\x00 ', None),\n",
      "                (1131, 'SL Rot Gas ON & Strike Ti Plasma', True),\n",
      "                (1163, '\\x00\\x00\\x00\\x14', None),\n",
      "                (1167, 'CP Ti Presputt 3 min', True),\n",
      "                (1187, '\\x00\\x00\\x00-', None),\n",
      "                (1191, 'CP Ti sputter 200nm + Au presputter last 1min', True),\n",
      "                (1236, '\\x00\\x00\\x00\\x15', None),\n",
      "                (1240, 'SL Ti OFF + Au strike', True),\n",
      "                (1261, '\\x00\\x00\\x00\\x1b', None),\n",
      "                (1265, 'SL Au sputter 20nm 3_2mTorr', True),\n",
      "                (1292, '\\x00\\x00\\x00\\t', None),\n",
      "                (1296, 'SL Au OFF', True),\n",
      "                (1305, '\\x00\\x00\\x00\\x10', None),\n",
      "                (1309, 'SL Rot Gases OFF', True),\n",
      "                (1325, '\\x00\\x00\\x00\\t', None),\n",
      "                (1329, 'wait 5min', True),\n",
      "                (1338, '\\x00\\x00\\x00\\x08', None),\n",
      "                (1342, 'unload 5', True)],\n",
      " 'recipe': ['Load 1',\n",
      "            'wait 5min',\n",
      "            'CP Rot Gas ON  30W Bias Plasma On',\n",
      "            'CP RF Clean 5min',\n",
      "            'CP Gases OFF 1min',\n",
      "            'wait 5min',\n",
      "            'SL Rot Gas ON & Strike Ti Plasma',\n",
      "            'CP Ti Presputt 3 min',\n",
      "            'CP Ti sputter 200nm + Au presputter last 1min',\n",
      "            'SL Ti OFF + Au strike',\n",
      "            'SL Au sputter 20nm 3_2mTorr',\n",
      "            'SL Au OFF',\n",
      "            'SL Rot Gases OFF',\n",
      "            'wait 5min',\n",
      "            'Unload 1',\n",
      "            'load3',\n",
      "            'wait 5min',\n",
      "            'CP Rot Gas ON  30W Bias Plasma On',\n",
      "            'CP RF Clean 5min',\n",
      "            'CP Gases OFF 1min',\n",
      "            'wait 5min',\n",
      "            'SL Rot Gas ON & Strike Ti Plasma',\n",
      "            'CP Ti Presputt 3 min',\n",
      "            'CP Ti sputter 200nm + Au presputter last 1min',\n",
      "            'SL Ti OFF + Au strike',\n",
      "            'SL Au sputter 20nm 3_2mTorr',\n",
      "            'SL Au OFF',\n",
      "            'SL Rot Gases OFF',\n",
      "            'wait 5min',\n",
      "            'unload3',\n",
      "            'Load 4',\n",
      "            'wait 5min',\n",
      "            'CP Rot Gas ON  30W Bias Plasma On',\n",
      "            'CP RF Clean 5min',\n",
      "            'CP Gases OFF 1min',\n",
      "            'wait 5min',\n",
      "            'SL Rot Gas ON & Strike Ti Plasma',\n",
      "            'CP Ti Presputt 3 min',\n",
      "            'CP Ti sputter 200nm + Au presputter last 1min',\n",
      "            'SL Ti OFF + Au strike',\n",
      "            'SL Au sputter 20nm 3_2mTorr',\n",
      "            'SL Au OFF',\n",
      "            'SL Rot Gases OFF',\n",
      "            'wait 5min',\n",
      "            'unload 4',\n",
      "            'load 5',\n",
      "            'wait 5min',\n",
      "            'CP Rot Gas ON  30W Bias Plasma On',\n",
      "            'CP RF Clean 5min',\n",
      "            'CP Gases OFF 1min',\n",
      "            'wait 5min',\n",
      "            'SL Rot Gas ON & Strike Ti Plasma',\n",
      "            'CP Ti Presputt 3 min',\n",
      "            'CP Ti sputter 200nm + Au presputter last 1min',\n",
      "            'SL Ti OFF + Au strike',\n",
      "            'SL Au sputter 20nm 3_2mTorr',\n",
      "            'SL Au OFF',\n",
      "            'SL Rot Gases OFF',\n",
      "            'wait 5min',\n",
      "            'unload 5']}\n"
     ]
    }
   ],
   "source": [
    "recipe_dict = rp.get_recipe(job_file_path, recipe_folder_path=recipe_files_dir)\n",
    "pprint.pprint(recipe_dict)"
   ]
  },
  {
   "cell_type": "markdown",
   "metadata": {},
   "source": [
    "Check for missing job files\n",
    "-------------------------\n",
    "Now that we've gone through all this, we may as well check to see if any of the logfiles don't have jobs associated with them."
   ]
  },
  {
   "cell_type": "code",
   "execution_count": 10,
   "metadata": {
    "collapsed": false
   },
   "outputs": [
    {
     "name": "stdout",
     "output_type": "stream",
     "text": [
      "Bad job: CP LU1_3_4_5_6 TES 1&3&4 Ti4+Au_200+30nm 5&6 Ti4+Au+Ti4+Au_5+5+150+20nm 5minRFclean_Wait10min_temp\n",
      "Bad job: load-unload1-9\n",
      "Bad job: load-unload1-9\n",
      "Bad job: load-unload1-9\n",
      "Bad job: load-unload1-9\n",
      "Bad job: load-unload1-9\n",
      "Bad job: SP LU1_3_4_5_6 Resistor Ti+Au_40+7nm_temp\n",
      "Bad job: SP LU1_3_4_5_6 Resistor Ti+Au_40+7nm_temp\n",
      "Bad job: SP LU1_3_4_5_6 Resistor Ti+Au_50+7nm_temp\n",
      "Bad job: SP LU1_3_4_5_6 Resistor Ti+Au_50+7nm_temp\n",
      "Bad job: SP LU1_3_4_5_6 Resistor Ti+Au_50+7nm_temp\n",
      "Bad job: SP LU1_3_4_5_6 Resistor Ti+Au_50+7nm_temp\n",
      "Bad job: SP LU1_3_4_5_6 TES Ti4+Au+Ti4+Au_5+5+160+20nm 5minRFclean_Wait10min_Temp\n",
      "Bad job: SP LU1_3_4_5_6 TES Ti4+Au+Ti4+Au_5+5+175+20nm 5minRFclean_Wait10min_temp\n",
      "Bad job: SP LU1_3_4_5_6 TES Ti4+Au+Ti4+Au_5+5+175+20nm 5minRFclean_Wait10min_temp\n",
      "Bad job: \n",
      "Bad job: test\n",
      "Bad job: TiN 500A 400C N2 Sweep\n",
      "Bad job: TiN 500A 400C N2 Sweep\n",
      "Bad job: TiN 500A 400C N2 Sweep\n"
     ]
    },
    {
     "name": "stderr",
     "output_type": "stream",
     "text": [
      "/Users/fcarter/Documents/Code/Python/AJA_tools/recipe_parser.py:103: RecipeWarning: No matching job found!\n",
      "  warnings.warn(\"No matching job found!\", RecipeWarning)\n"
     ]
    }
   ],
   "source": [
    "logs_dict = {}\n",
    "\n",
    "logfiles = glob.glob('./AJA_Metals/datalog/*')\n",
    "for log in logfiles:\n",
    "    job_name, job_file = rp.get_job(log, jobs_dict)\n",
    "    if job_file is None:\n",
    "        print(\"Bad job: \"+job_name)\n",
    "    else:\n",
    "        logs_dict[log] = rp.get_recipe(job_file, recipe_files_dir)\n",
    "        "
   ]
  },
  {
   "cell_type": "code",
   "execution_count": null,
   "metadata": {
    "collapsed": true
   },
   "outputs": [],
   "source": []
  }
 ],
 "metadata": {
  "kernelspec": {
   "display_name": "Python [py36]",
   "language": "python",
   "name": "Python [py36]"
  },
  "language_info": {
   "codemirror_mode": {
    "name": "ipython",
    "version": 3
   },
   "file_extension": ".py",
   "mimetype": "text/x-python",
   "name": "python",
   "nbconvert_exporter": "python",
   "pygments_lexer": "ipython3",
   "version": "3.6.0"
  }
 },
 "nbformat": 4,
 "nbformat_minor": 2
}
