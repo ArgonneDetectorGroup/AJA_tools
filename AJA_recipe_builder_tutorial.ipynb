{
 "cells": [
  {
   "cell_type": "markdown",
   "metadata": {},
   "source": [
    "Tutorial:\n",
    "=========\n",
    "Extracting a time-ordered list of processes that occurred during deposition from an AJA logfile. In order to run this, you'll have to have the required directories of AJA logfiles, recipe files, and job files."
   ]
  },
  {
   "cell_type": "code",
   "execution_count": 1,
   "metadata": {
    "collapsed": false
   },
   "outputs": [],
   "source": [
    "#Add the AJA repository parent directory to $PATH\n",
    "import sys\n",
    "sys.path.append('path_to_parentdir')\n",
    "\n",
    "import glob\n",
    "import pprint\n",
    "\n",
    "from AJA_tools import recipe_parser as aja"
   ]
  },
  {
   "cell_type": "markdown",
   "metadata": {},
   "source": [
    "Specify file locations\n",
    "---------------------\n",
    "The easiest thing is to put all the recipe files (`.rcp`) in one folder and all the job files (`.ajp`) in another. I did this by opening a terminal and typing::\n",
    "\n",
    "    mkdir recipes\n",
    "    mv *.rcp recipes\n",
    "    mkdir jobs\n",
    "    mv *.ajp jobs"
   ]
  },
  {
   "cell_type": "code",
   "execution_count": 2,
   "metadata": {
    "collapsed": false
   },
   "outputs": [],
   "source": [
    "recipe_files_dir = './recipes/'\n",
    "job_files_dir = './jobs/'"
   ]
  },
  {
   "cell_type": "markdown",
   "metadata": {},
   "source": [
    "Parse files and generate database of jobs\n",
    "---------------------------------------\n",
    "This function takes in a folder of `.ajp` files and builds a dictionary of jobs that matches job names to job file locations."
   ]
  },
  {
   "cell_type": "code",
   "execution_count": 3,
   "metadata": {
    "collapsed": false
   },
   "outputs": [
    {
     "name": "stdout",
     "output_type": "stream",
     "text": [
      "The first five jobs are:\n",
      "['Ci Ti deposition 3mins',\n",
      " 'CLEAN_RF25W_2h_wafer3',\n",
      " 'CP 30min Ti deposition_NO RF_wait_1hr',\n",
      " 'CP 3X 30min Ti deposition_NO RF_wait_2hr_in_between',\n",
      " 'CP Heat 4hr 250C']\n"
     ]
    }
   ],
   "source": [
    "#Build up the dictionary of jobs\n",
    "jobs_dict = aja.build_jobs_dict(job_files_dir)\n",
    "\n",
    "#Print the first couple of job names\n",
    "print(\"The first five jobs are:\")\n",
    "pprint.pprint(list(jobs_dict.keys())[0:5])"
   ]
  },
  {
   "cell_type": "markdown",
   "metadata": {},
   "source": [
    "Get the path to the right job file\n",
    "--------------------------------\n",
    "`get_job` takes in a logfile path and a dictionary of jobs (or path to a jobs folder) and returns both the job name and the job file."
   ]
  },
  {
   "cell_type": "code",
   "execution_count": 4,
   "metadata": {
    "collapsed": false
   },
   "outputs": [
    {
     "name": "stdout",
     "output_type": "stream",
     "text": [
      "Job name is: SL SiO2 Gun4 1hr 200C 274 026 200W\n",
      "Job file is: ./jobs/SL SiO2 Gun4 1hr 200C 274 026 200W.ajp\n"
     ]
    }
   ],
   "source": [
    "#Specify the logfile of interest\n",
    "log_file_path = './datalog/SL SiO2 Gun4 1hr 200C 274 026 200W_192015_ 51401 PM.dlg'\n",
    "\n",
    "job_name, job_file_path = aja.get_job(log_file_path, jobs_dict)\n",
    "print(\"Job name is: \"+job_name)\n",
    "print(\"Job file is: \"+job_file_path)"
   ]
  },
  {
   "cell_type": "markdown",
   "metadata": {},
   "source": [
    "Extract the recipe from the job file\n",
    "----------------------------------\n",
    "Since the job files all have a specific format, passing in the recipe files directory path is optional. However, if that path is passed in, the function will check if each recipe step exists as a recipe file in the directory."
   ]
  },
  {
   "cell_type": "code",
   "execution_count": 5,
   "metadata": {
    "collapsed": false
   },
   "outputs": [
    {
     "name": "stdout",
     "output_type": "stream",
     "text": [
      "{'info': 'raw_recipe format is: (string index, string, recipe exists?)',\n",
      " 'raw_job': '\\x00\\x00\\x00\\x08\\x00\\x00\\x00!SiO2 SL  PROCESS-- HEAT 150C '\n",
      "            '5MIN\\x00\\x00\\x00!SiO2 SL  PROCESS-- HEAT 180C '\n",
      "            '5MIN\\x00\\x00\\x00!SiO2 SL  PROCESS-- HEAT 200C '\n",
      "            '5MIN\\x00\\x00\\x00\"SiO2 SL PROCESS-- STRIKE GUN4 '\n",
      "            '200C\\x00\\x00\\x00.SiO2 SL PROCESS-- CLEAN PRESPUT 3min 200C '\n",
      "            'GUN4\\x00\\x00\\x00#SiO2 SL PROCESS-- DEP 1hr 200C '\n",
      "            'GUN4\\x00\\x00\\x00\\x1e'\n",
      "            'SiO2 SL PROCESS-- TURNOFF GUN4\\x00\\x00\\x00%SiO2 SL PROCESS-- '\n",
      "            'TURNOFF GAS AND ROT',\n",
      " 'raw_recipe': [(0, '\\x00\\x00\\x00\\x08\\x00\\x00\\x00!', None),\n",
      "                (8, 'SiO2 SL  PROCESS-- HEAT 150C 5MIN', True),\n",
      "                (41, '\\x00\\x00\\x00!', None),\n",
      "                (45, 'SiO2 SL  PROCESS-- HEAT 180C 5MIN', True),\n",
      "                (78, '\\x00\\x00\\x00!', None),\n",
      "                (82, 'SiO2 SL  PROCESS-- HEAT 200C 5MIN', True),\n",
      "                (115, '\\x00\\x00\\x00\"', None),\n",
      "                (119, 'SiO2 SL PROCESS-- STRIKE GUN4 200C', True),\n",
      "                (153, '\\x00\\x00\\x00.', None),\n",
      "                (157, 'SiO2 SL PROCESS-- CLEAN PRESPUT 3min 200C GUN4', True),\n",
      "                (203, '\\x00\\x00\\x00#', None),\n",
      "                (207, 'SiO2 SL PROCESS-- DEP 1hr 200C GUN4', True),\n",
      "                (242, '\\x00\\x00\\x00\\x1e', None),\n",
      "                (246, 'SiO2 SL PROCESS-- TURNOFF GUN4', True),\n",
      "                (276, '\\x00\\x00\\x00%', None)],\n",
      " 'recipe': ['SiO2 SL  PROCESS-- HEAT 150C 5MIN',\n",
      "            'SiO2 SL  PROCESS-- HEAT 180C 5MIN',\n",
      "            'SiO2 SL  PROCESS-- HEAT 200C 5MIN',\n",
      "            'SiO2 SL PROCESS-- STRIKE GUN4 200C',\n",
      "            'SiO2 SL PROCESS-- CLEAN PRESPUT 3min 200C GUN4',\n",
      "            'SiO2 SL PROCESS-- DEP 1hr 200C GUN4',\n",
      "            'SiO2 SL PROCESS-- TURNOFF GUN4']}\n"
     ]
    }
   ],
   "source": [
    "recipe_dict = aja.get_recipe(job_file_path, recipe_files_dir)\n",
    "pprint.pprint(recipe_dict)"
   ]
  },
  {
   "cell_type": "markdown",
   "metadata": {},
   "source": [
    "Check for missing job files\n",
    "-------------------------\n",
    "Now that we've gone through all this, we may as well check to see if any of the logfiles don't have jobs associated with them."
   ]
  },
  {
   "cell_type": "code",
   "execution_count": 10,
   "metadata": {
    "collapsed": false
   },
   "outputs": [
    {
     "name": "stdout",
     "output_type": "stream",
     "text": [
      "CP LU1 30min Ti deposition_NO RF_wait_1hr_5depositions_temp\n",
      "CP LU1 30min Ti deposition_NO RF_wait_1hr_5depositions_temp\n",
      "CP LU1 30min Ti deposition_NO RF_wait_1hr_5depositions_temp\n",
      "CP LU1 30min Ti deposition_NO RF_wait_1hr_5depositions_temp\n",
      "CP LU1 30min Ti deposition_NO RF_wait_1hr_5depositions_temp\n",
      "CP LU1 30min Ti deposition_NO RF_wait_1hr_5depositions_temp\n",
      "CP LU1 30min Ti deposition_NO RF_wait_1hr_5depositions_temp\n",
      "rg_lu_3_4_nb_40mins_30sec_1\n",
      "rg_lu_3_4_nb_40mins_30sec_1\n",
      "rg_lu_3_4_nb_40mins_30sec_1\n",
      "rg_lu_3_4_nb_40mins_30sec_1\n",
      "rg_lu_3_4_nb_40mins_30sec_1\n",
      "\n"
     ]
    },
    {
     "name": "stderr",
     "output_type": "stream",
     "text": [
      "/Users/fcarter/Documents/Code/Python/AJA_tools/recipe_parser.py:102: UserWarning: No matching job found!\n",
      "  warnings.warn(\"No matching job found!\", UserWarning)\n"
     ]
    }
   ],
   "source": [
    "logfiles = glob.glob('./datalog/*.dlg')\n",
    "for log in logfiles:\n",
    "    job_name, job_file = aja.get_job(log, jobs_dict)\n",
    "    if job_file is None:\n",
    "        print(job_name)"
   ]
  },
  {
   "cell_type": "code",
   "execution_count": null,
   "metadata": {
    "collapsed": true
   },
   "outputs": [],
   "source": []
  }
 ],
 "metadata": {
  "kernelspec": {
   "display_name": "Python [py36]",
   "language": "python",
   "name": "Python [py36]"
  },
  "language_info": {
   "codemirror_mode": {
    "name": "ipython",
    "version": 3
   },
   "file_extension": ".py",
   "mimetype": "text/x-python",
   "name": "python",
   "nbconvert_exporter": "python",
   "pygments_lexer": "ipython3",
   "version": "3.6.0"
  }
 },
 "nbformat": 4,
 "nbformat_minor": 2
}
