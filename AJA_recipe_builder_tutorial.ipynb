{
 "cells": [
  {
   "cell_type": "markdown",
   "metadata": {},
   "source": [
    "Tutorial:\n",
    "=========\n",
    "Extracting a time-ordered list of processes that occurred during deposition from an AJA logfile. In order to run this, you'll have to have the required directories of AJA logfiles, recipe files, and job files."
   ]
  },
  {
   "cell_type": "code",
   "execution_count": 20,
   "metadata": {
    "collapsed": false
   },
   "outputs": [],
   "source": [
    "#Add the AJA repository parent directory to $PATH\n",
    "import sys\n",
    "sys.path.append('path_to_parentdir')\n",
    "\n",
    "import glob\n",
    "import pprint\n",
    "\n",
    "from AJA_tools import recipe_parser as aja"
   ]
  },
  {
   "cell_type": "markdown",
   "metadata": {},
   "source": [
    "Specify file locations\n",
    "---------------------\n",
    "The easiest thing is to put all the recipe files (`.rcp`) in one folder and all the job files (`.ajp`) in another. I did this by opening a terminal and typing::\n",
    "\n",
    "    mkdir recipes\n",
    "    mv *.rcp recipes\n",
    "    mkdir jobs\n",
    "    mv *.ajp jobs"
   ]
  },
  {
   "cell_type": "code",
   "execution_count": 21,
   "metadata": {
    "collapsed": false
   },
   "outputs": [],
   "source": [
    "recipe_files_dir = './recipes/'\n",
    "job_files_dir = './jobs/'"
   ]
  },
  {
   "cell_type": "markdown",
   "metadata": {},
   "source": [
    "Parse files and generate database of jobs\n",
    "---------------------------------------\n",
    "This function takes in a folder of `.ajp` files and builds a dictionary of jobs that matches job names to job file locations."
   ]
  },
  {
   "cell_type": "code",
   "execution_count": 22,
   "metadata": {
    "collapsed": false
   },
   "outputs": [
    {
     "name": "stdout",
     "output_type": "stream",
     "text": [
      "The first five jobs are:\n",
      "['Ci Ti deposition 3mins',\n",
      " 'CLEAN_RF25W_2h_wafer3',\n",
      " 'CP 30min Ti deposition_NO RF_wait_1hr',\n",
      " 'CP 3X 30min Ti deposition_NO RF_wait_2hr_in_between',\n",
      " 'CP Heat 4hr 250C']\n"
     ]
    }
   ],
   "source": [
    "#Build up the dictionary of jobs\n",
    "jobs_dict = aja.build_jobs_dict(job_files_dir)\n",
    "\n",
    "#Print the first couple of job names\n",
    "print(\"The first five jobs are:\")\n",
    "pprint.pprint(list(jobs_dict.keys())[0:5])"
   ]
  },
  {
   "cell_type": "markdown",
   "metadata": {},
   "source": [
    "Get the path to the right job file\n",
    "--------------------------------\n",
    "`get_job` takes in a logfile path and a dictionary of jobs (or path to a jobs folder) and returns both the job name and the job file."
   ]
  },
  {
   "cell_type": "code",
   "execution_count": 23,
   "metadata": {
    "collapsed": false
   },
   "outputs": [
    {
     "name": "stdout",
     "output_type": "stream",
     "text": [
      "Job name is: CP LU4 SiO2_200W 500nm 5rpm GUN2&GUN3 Ang 6mm RT 25RF\n",
      "Job file is: ./jobs/CP LU4 SiO2_200W 500nm 5rpm GUN2&GUN3 Ang 6mm RT 25RF.ajp\n",
      "'\\x00\\x00\\x00\\x0b\\x00\\x00\\x00\\x06Load 4\\x00\\x00\\x00\\nWait 5 min\\x00\\x00\\x00\\nWait 5 min\\x00\\x00\\x00\\x1bCP  SiO2 - STRIKE GUN2&GUN3\\x00\\x00\\x000CP 5RPM-- Clean Presputt Gun2 and Gun3 200W 3min\\x00\\x00\\x00)CP Dep SiO2 500nm GUN2 and GUN3 200W 25RF\\x00\\x00\\x00\"CP SiO2-- TURNOFF RF & Gun2 & Gun3\\x00\\x00\\x00%SiO2 SL PROCESS-- TURNOFF GAS AND ROT\\x00\\x00\\x00\\nWait 5 min\\x00\\x00\\x00\\nWait 5 min\\x00\\x00\\x00\\x08Unload 4'\n"
     ]
    }
   ],
   "source": [
    "#Specify the logfile of interest\n",
    "log_file_path = './datalog/CP LU4 SiO2_200W 500nm 5rpm GUN2&GUN3 Ang 6mm RT 25RF_10262015_ 72115 PM.dlg'\n",
    "\n",
    "job_name, job_file_path = aja.get_job(log_file_path, jobs_dict)\n",
    "print(\"Job name is: \"+job_name)\n",
    "print(\"Job file is: \"+job_file_path)\n",
    "with open(job_file_path, 'r') as f:\n",
    "    print(repr(f.read()))"
   ]
  },
  {
   "cell_type": "markdown",
   "metadata": {},
   "source": [
    "Extract the recipe from the job file\n",
    "----------------------------------\n",
    "Since the job files all have a specific format, passing in the recipe files directory path is optional. However, if that path is passed in, the function will check if each recipe step exists as a recipe file in the directory."
   ]
  },
  {
   "cell_type": "code",
   "execution_count": 24,
   "metadata": {
    "collapsed": false
   },
   "outputs": [
    {
     "name": "stdout",
     "output_type": "stream",
     "text": [
      "{'info': 'raw_recipe format is: (string index, string, recipe exists?)',\n",
      " 'job_name': 'CP LU4 SiO2_200W 500nm 5rpm GUN2&GUN3 Ang 6mm RT 25RF',\n",
      " 'raw_job': '\\x00\\x00\\x00\\x0b'\n",
      "            '\\x00\\x00\\x00\\x06Load 4\\x00\\x00\\x00\\n'\n",
      "            'Wait 5 min\\x00\\x00\\x00\\n'\n",
      "            'Wait 5 min\\x00\\x00\\x00\\x1bCP  SiO2 - STRIKE '\n",
      "            'GUN2&GUN3\\x00\\x00\\x000CP 5RPM-- Clean Presputt Gun2 and Gun3 200W '\n",
      "            '3min\\x00\\x00\\x00)CP Dep SiO2 500nm GUN2 and GUN3 200W '\n",
      "            '25RF\\x00\\x00\\x00\"CP SiO2-- TURNOFF RF & Gun2 & '\n",
      "            'Gun3\\x00\\x00\\x00%SiO2 SL PROCESS-- TURNOFF GAS AND '\n",
      "            'ROT\\x00\\x00\\x00\\n'\n",
      "            'Wait 5 min\\x00\\x00\\x00\\n'\n",
      "            'Wait 5 min\\x00\\x00\\x00\\x08Unload 4',\n",
      " 'raw_recipe': [(0, '\\x00\\x00\\x00\\x0b\\x00\\x00\\x00\\x06', None),\n",
      "                (8, 'Load 4', True),\n",
      "                (14, '\\x00\\x00\\x00\\n', None),\n",
      "                (18, 'Wait 5 min', True),\n",
      "                (28, '\\x00\\x00\\x00\\n', None),\n",
      "                (32, 'Wait 5 min', True),\n",
      "                (42, '\\x00\\x00\\x00\\x1b', None),\n",
      "                (46, 'CP  SiO2 - STRIKE GUN2&GUN3', True),\n",
      "                (73, '\\x00\\x00\\x000', None),\n",
      "                (77, 'CP 5RPM-- Clean Presputt Gun2 and Gun3 200W 3min', True),\n",
      "                (125, '\\x00\\x00\\x00)', None),\n",
      "                (129, 'CP Dep SiO2 500nm GUN2 and GUN3 200W 25RF', True),\n",
      "                (170, '\\x00\\x00\\x00\"', None),\n",
      "                (174, 'CP SiO2-- TURNOFF RF & Gun2 & Gun3', True),\n",
      "                (208, '\\x00\\x00\\x00%', None),\n",
      "                (212, 'SiO2 SL PROCESS-- TURNOFF GAS AND ROT', True),\n",
      "                (249, '\\x00\\x00\\x00\\n', None),\n",
      "                (253, 'Wait 5 min', True),\n",
      "                (263, '\\x00\\x00\\x00\\n', None),\n",
      "                (267, 'Wait 5 min', True),\n",
      "                (277, '\\x00\\x00\\x00\\x08', None),\n",
      "                (281, 'Unload 4', True)],\n",
      " 'recipe': ['Load 4',\n",
      "            'Wait 5 min',\n",
      "            'Wait 5 min',\n",
      "            'CP  SiO2 - STRIKE GUN2&GUN3',\n",
      "            'CP 5RPM-- Clean Presputt Gun2 and Gun3 200W 3min',\n",
      "            'CP Dep SiO2 500nm GUN2 and GUN3 200W 25RF',\n",
      "            'CP SiO2-- TURNOFF RF & Gun2 & Gun3',\n",
      "            'SiO2 SL PROCESS-- TURNOFF GAS AND ROT',\n",
      "            'Wait 5 min',\n",
      "            'Wait 5 min',\n",
      "            'Unload 4']}\n"
     ]
    }
   ],
   "source": [
    "recipe_dict = aja.get_recipe(job_file_path, recipe_folder_path=recipe_files_dir)\n",
    "pprint.pprint(recipe_dict)"
   ]
  },
  {
   "cell_type": "markdown",
   "metadata": {},
   "source": [
    "Check for missing job files\n",
    "-------------------------\n",
    "Now that we've gone through all this, we may as well check to see if any of the logfiles don't have jobs associated with them."
   ]
  },
  {
   "cell_type": "code",
   "execution_count": 25,
   "metadata": {
    "collapsed": false
   },
   "outputs": [
    {
     "name": "stderr",
     "output_type": "stream",
     "text": [
      "/Users/fcarter/Documents/Code/Python/AJA_tools/recipe_parser.py:101: UserWarning: No matching job found!\n",
      "  warnings.warn(\"No matching job found!\", UserWarning)\n"
     ]
    },
    {
     "name": "stdout",
     "output_type": "stream",
     "text": [
      "Bad job: CP LU1 30min Ti deposition_NO RF_wait_1hr_5depositions_temp\n",
      "Bad job: CP LU1 30min Ti deposition_NO RF_wait_1hr_5depositions_temp\n",
      "Bad job: CP LU1 30min Ti deposition_NO RF_wait_1hr_5depositions_temp\n",
      "Bad job: CP LU1 30min Ti deposition_NO RF_wait_1hr_5depositions_temp\n",
      "Bad job: CP LU1 30min Ti deposition_NO RF_wait_1hr_5depositions_temp\n",
      "Bad job: CP LU1 30min Ti deposition_NO RF_wait_1hr_5depositions_temp\n",
      "Bad job: CP LU1 30min Ti deposition_NO RF_wait_1hr_5depositions_temp\n",
      "Bad job: rg_lu_3_4_nb_40mins_30sec_1\n",
      "Bad job: rg_lu_3_4_nb_40mins_30sec_1\n",
      "Bad job: rg_lu_3_4_nb_40mins_30sec_1\n",
      "Bad job: rg_lu_3_4_nb_40mins_30sec_1\n",
      "Bad job: rg_lu_3_4_nb_40mins_30sec_1\n",
      "Bad job: \n"
     ]
    }
   ],
   "source": [
    "logs_dict = {}\n",
    "\n",
    "logfiles = glob.glob('./datalog/*')\n",
    "for log in logfiles:\n",
    "    job_name, job_file = aja.get_job(log, jobs_dict)\n",
    "    if job_file is None:\n",
    "        print(\"Bad job: \"+job_name)\n",
    "    else:\n",
    "        logs_dict[log] = aja.get_recipe(job_file, recipe_files_dir)\n",
    "        "
   ]
  }
 ],
 "metadata": {
  "kernelspec": {
   "display_name": "Python [py36]",
   "language": "python",
   "name": "Python [py36]"
  },
  "language_info": {
   "codemirror_mode": {
    "name": "ipython",
    "version": 3
   },
   "file_extension": ".py",
   "mimetype": "text/x-python",
   "name": "python",
   "nbconvert_exporter": "python",
   "pygments_lexer": "ipython3",
   "version": "3.6.0"
  }
 },
 "nbformat": 4,
 "nbformat_minor": 2
}
